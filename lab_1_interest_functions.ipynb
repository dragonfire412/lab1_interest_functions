{
  "nbformat": 4,
  "nbformat_minor": 0,
  "metadata": {
    "kernelspec": {
      "display_name": "Python 3",
      "language": "python",
      "name": "python3"
    },
    "language_info": {
      "codemirror_mode": {
        "name": "ipython",
        "version": 3
      },
      "file_extension": ".py",
      "mimetype": "text/x-python",
      "name": "python",
      "nbconvert_exporter": "python",
      "pygments_lexer": "ipython3",
      "version": "3.7.2"
    },
    "colab": {
      "name": "lab_1_interest_functions.ipynb",
      "provenance": [],
      "include_colab_link": true
    }
  },
  "cells": [
    {
      "cell_type": "markdown",
      "metadata": {
        "id": "view-in-github",
        "colab_type": "text"
      },
      "source": [
        "<a href=\"https://colab.research.google.com/github/dragonfire412/lab1_interest_functions/blob/master/lab_1_interest_functions.ipynb\" target=\"_parent\"><img src=\"https://colab.research.google.com/assets/colab-badge.svg\" alt=\"Open In Colab\"/></a>"
      ]
    },
    {
      "cell_type": "markdown",
      "metadata": {
        "id": "9dw-PSTEtYxO",
        "colab_type": "text"
      },
      "source": [
        "## Lab 1 - Compound Interest Functions\n",
        "\n",
        "Below you will find a table of important formulae related to compound interest.  \n",
        "\n",
        "<img src=\"https://www.dummies.com/wp-content/uploads/251689.image0.jpg\" alt=\"image0.jpg\" width=\"400\" height=\"319\">\n",
        "\n",
        "In this lab, you will create functions for each of these using (and documenting) the following workflow.\n",
        "\n",
        "1. Work out the correct answer for a few examples. *Hint* Search for e.g. \"worked out compound interest examples\" on the web.\n",
        "2. Write a `lambda` function and test this function on your test cases.\n",
        "3. Convert the `lambda` function to a `def` statement with an informative doc string that follows the [Google formating rules](https://google.github.io/styleguide/pyguide.html#383-functions-and-methods).\n",
        "4. Write an automated test function (using your previous examples) that will test your `def` statement function each time the code is executed."
      ]
    },
    {
      "cell_type": "markdown",
      "metadata": {
        "id": "w7WMeyB_tYxP",
        "colab_type": "text"
      },
      "source": [
        "#### Problem 1 -- Apply the process to create a simple interest functions."
      ]
    },
    {
      "cell_type": "code",
      "metadata": {
        "id": "RgggNwMetYxQ",
        "colab_type": "code",
        "colab": {
          "base_uri": "https://localhost:8080/",
          "height": 34
        },
        "outputId": "1fed712e-1de8-44a0-f47a-abe34df903a0"
      },
      "source": [
        "simp = lambda p,r,t: p*r*t\n",
        "simp(1000, 0.5, 2)"
      ],
      "execution_count": 5,
      "outputs": [
        {
          "output_type": "execute_result",
          "data": {
            "text/plain": [
              "1000.0"
            ]
          },
          "metadata": {
            "tags": []
          },
          "execution_count": 5
        }
      ]
    },
    {
      "cell_type": "code",
      "metadata": {
        "id": "OE8YKGg9tvPF",
        "colab_type": "code",
        "colab": {}
      },
      "source": [
        "def simple_interest(principal, rate, time):\n",
        "  \"\"\"Calculates simple interest.\n",
        "\n",
        "  Args:\n",
        "    principal: base amount\n",
        "    rate: interest rate expressed as decimal\n",
        "    t: time period as number of years\n",
        "\n",
        "  Returns:\n",
        "    Calculated value according to formula I = Prt\n",
        "  \"\"\"\n",
        "  return principal*rate*time"
      ],
      "execution_count": 1,
      "outputs": []
    },
    {
      "cell_type": "code",
      "metadata": {
        "id": "v-gPzogku49z",
        "colab_type": "code",
        "colab": {}
      },
      "source": [
        "def test_simple_interest():\n",
        "  assert simple_interest(5000, 0, 5) == 0\n",
        "  assert simple_interest(0, 0.5, 1) == 0\n",
        "  assert simple_interest(5000, .5, 0) == 0\n",
        "  assert simple_interest(1000, 0.5, 2) == 1000\n",
        "\n",
        "test_simple_interest()"
      ],
      "execution_count": 36,
      "outputs": []
    },
    {
      "cell_type": "markdown",
      "metadata": {
        "id": "pUbVLt_7tYxT",
        "colab_type": "text"
      },
      "source": [
        "#### Problem 2 -- Apply the process to create a compound interest functions."
      ]
    },
    {
      "cell_type": "code",
      "metadata": {
        "id": "TXVy1UOWtYxU",
        "colab_type": "code",
        "colab": {
          "base_uri": "https://localhost:8080/",
          "height": 34
        },
        "outputId": "1c559d54-562e-469b-86fa-561cc2ace340"
      },
      "source": [
        "cmp = lambda p,r,n,t: p * (1+ r/n)**(n*t)\n",
        "cmp(5000, .1, 1, 2)"
      ],
      "execution_count": 7,
      "outputs": [
        {
          "output_type": "execute_result",
          "data": {
            "text/plain": [
              "6050.000000000001"
            ]
          },
          "metadata": {
            "tags": []
          },
          "execution_count": 7
        }
      ]
    },
    {
      "cell_type": "code",
      "metadata": {
        "id": "y7X3o9ktwl-x",
        "colab_type": "code",
        "colab": {}
      },
      "source": [
        "def compound_interest(principal, rate, compoundings, time):\n",
        "  \"\"\"Computes compound interest.\n",
        "\n",
        "  Args:\n",
        "    principal: base amount\n",
        "    rate: interest rate expressed as decimal\n",
        "    compoundings: number of times to compound in a year\n",
        "    time: time period as number of years\n",
        "\n",
        "  Returns:\n",
        "    Value after the given amount of time\n",
        "  \"\"\"\n",
        "  return principal * (1 + rate/compoundings) ** (compoundings * time)"
      ],
      "execution_count": null,
      "outputs": []
    },
    {
      "cell_type": "code",
      "metadata": {
        "id": "1ssZJF7NyOT0",
        "colab_type": "code",
        "colab": {}
      },
      "source": [
        "def test_compound_interest():\n",
        "  assert round(compound_interest(5000, 0.03, 12, 6), 2) == 5984.74\n",
        "  assert round(compound_interest(4000, 0.06, 4, 5),2) == 5387.42"
      ],
      "execution_count": 25,
      "outputs": []
    },
    {
      "cell_type": "code",
      "metadata": {
        "id": "1c-br2tU0Ten",
        "colab_type": "code",
        "colab": {}
      },
      "source": [
        "test_compound_interest()"
      ],
      "execution_count": 26,
      "outputs": []
    },
    {
      "cell_type": "markdown",
      "metadata": {
        "id": "K_ygA8J0tYxW",
        "colab_type": "text"
      },
      "source": [
        "#### Problem 3 -- Apply the process to create a amortized loan payment function."
      ]
    },
    {
      "cell_type": "code",
      "metadata": {
        "id": "DZGvevqTtYxX",
        "colab_type": "code",
        "colab": {
          "base_uri": "https://localhost:8080/",
          "height": 34
        },
        "outputId": "2482cbae-e4f0-47aa-d752-0ca2080c83f5"
      },
      "source": [
        "amort_loan = lambda p, i, n: p*i / (1 - (1+i) **(-n))\n",
        "amort_loan(12000, .1, 5)"
      ],
      "execution_count": 29,
      "outputs": [
        {
          "output_type": "execute_result",
          "data": {
            "text/plain": [
              "3165.5697695369427"
            ]
          },
          "metadata": {
            "tags": []
          },
          "execution_count": 29
        }
      ]
    },
    {
      "cell_type": "code",
      "metadata": {
        "id": "DPA0BIVZ12Xf",
        "colab_type": "code",
        "colab": {}
      },
      "source": [
        "def amort_loan_payment(principal, rate, num_payments):\n",
        "  \"\"\"Calculates required payment for amortizing a loan\n",
        "\n",
        "  Args:\n",
        "    principal: balance of the loan\n",
        "    rate: interest rate expressed as decimal\n",
        "    num_payments: number of payments that will be made\n",
        "\n",
        "  Returns:\n",
        "    Value of required payment\n",
        "  \"\"\"\n",
        "  return principal * rate / (1 - (1 + rate) ** (-num_payments))"
      ],
      "execution_count": null,
      "outputs": []
    },
    {
      "cell_type": "code",
      "metadata": {
        "id": "zEGHSiJt2yrl",
        "colab_type": "code",
        "colab": {}
      },
      "source": [
        "def test_amort_loan_payment():\n",
        "  assert round(amort_loan_payment(25000, 0.06, 4),2) == 7214.79\n",
        "  assert round(amort_loan_payment(12000, .1, 5), 2) == 3165.57"
      ],
      "execution_count": 30,
      "outputs": []
    },
    {
      "cell_type": "code",
      "metadata": {
        "id": "MWR0OJlh3ILB",
        "colab_type": "code",
        "colab": {}
      },
      "source": [
        "test_amort_loan_payment()"
      ],
      "execution_count": 31,
      "outputs": []
    },
    {
      "cell_type": "markdown",
      "metadata": {
        "id": "Rw9eXCeBtYxZ",
        "colab_type": "text"
      },
      "source": [
        "#### Problem 4 -- Apply the process to create a remaining balance function"
      ]
    },
    {
      "cell_type": "code",
      "metadata": {
        "id": "sWYpd-sJtYxa",
        "colab_type": "code",
        "colab": {
          "base_uri": "https://localhost:8080/",
          "height": 34
        },
        "outputId": "098fbb7c-7e33-4f38-9b13-604fcabff357"
      },
      "source": [
        "rem_bal = lambda r,i,n,x: r * (1 - (1+i)** -(n-x)) / i\n",
        "rem_bal(1500, .1, 10,2)"
      ],
      "execution_count": 37,
      "outputs": [
        {
          "output_type": "execute_result",
          "data": {
            "text/plain": [
              "8002.389296854004"
            ]
          },
          "metadata": {
            "tags": []
          },
          "execution_count": 37
        }
      ]
    },
    {
      "cell_type": "code",
      "metadata": {
        "id": "lv-4zEMl4rBz",
        "colab_type": "code",
        "colab": {}
      },
      "source": [
        "def remaining_balance(regular_payment, rate, total_payments, payments_made):\n",
        "  \"\"\"Returns remaining balance on a loan.\n",
        "\n",
        "  Args:\n",
        "    regular_payment: payment usually made\n",
        "    rate: interest rate expressed as decimal\n",
        "    total_payments: total number of payments needed\n",
        "    payments_made: number of payments which have been made\n",
        "\n",
        "  Returns:\n",
        "    Value of remaining loan balance\n",
        "  \"\"\"\n",
        "  return regular_payment * (1 - (1+rate)** -(total_payments-payments_made)) / rate"
      ],
      "execution_count": 32,
      "outputs": []
    },
    {
      "cell_type": "code",
      "metadata": {
        "id": "E6-dCfG_4rac",
        "colab_type": "code",
        "colab": {}
      },
      "source": [
        "def test_remaining_balance():\n",
        "  assert round(remaining_balance(1500, .1, 10, 2), 2) == 8002.39\n",
        "\n",
        "test_remaining_balance()"
      ],
      "execution_count": 35,
      "outputs": []
    }
  ]
}